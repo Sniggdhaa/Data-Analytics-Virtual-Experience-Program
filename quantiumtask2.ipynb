{
 "cells": [
  {
   "cell_type": "markdown",
   "execution_count": null,
   "metadata": {
    "papermill": {
     "duration": 0.012998,
     "end_time": "2020-08-19T16:06:06.991514",
     "exception": false,
     "start_time": "2020-08-19T16:06:06.978516",
     "status": "completed"
    },
    "tags": []
   },
   "source": [
    "# QUANTIUM DATA ANALYTICS VIRTUAL EXPERIENCE PROGRAM"
   ]
  },
  {
   "cell_type": "code",
   "execution_count": 1,
   "metadata": {
    "_cell_guid": "b1076dfc-b9ad-4769-8c92-a6c4dae69d19",
    "_uuid": "8f2839f25d086af736a60e9eeb907d3b93b6e0e5",
    "execution": {
     "iopub.execute_input": "2020-08-19T16:06:07.024432Z",
     "iopub.status.busy": "2020-08-19T16:06:07.023395Z",
     "iopub.status.idle": "2020-08-19T16:06:08.059686Z",
     "shell.execute_reply": "2020-08-19T16:06:08.058844Z"
    },
    "papermill": {
     "duration": 1.056667,
     "end_time": "2020-08-19T16:06:08.059834",
     "exception": false,
     "start_time": "2020-08-19T16:06:07.003167",
     "status": "completed"
    },
    "tags": []
   },
   "outputs": [
    {
     "name": "stdout",
     "output_type": "stream",
     "text": [
      "/kaggle/input/quantium-task2/QVI_data.csv\n",
      "/kaggle/input/quantium-task2/Combined-data.csv\n"
     ]
    }
   ],
   "source": [
    "import numpy as np \n",
    "import pandas as pd # data processing, CSV file I/O (e.g. pd.read_csv)\n",
    "import seaborn as sns\n",
    "import matplotlib.pyplot as plt\n",
    "import datetime\n",
    "from datetime import date\n",
    "import re\n",
    "import matplotlib.style as style\n",
    "import os\n",
    "for dirname, _, filenames in os.walk('/kaggle/input'):\n",
    "    for filename in filenames:\n",
    "        print(os.path.join(dirname, filename))"
   ]
  },
  {
   "cell_type": "code",
   "execution_count": 2,
   "metadata": {
    "_cell_guid": "79c7e3d0-c299-4dcb-8224-4455121ee9b0",
    "_uuid": "d629ff2d2480ee46fbb7e2d37f6b5fab8052498a",
    "execution": {
     "iopub.execute_input": "2020-08-19T16:06:08.093871Z",
     "iopub.status.busy": "2020-08-19T16:06:08.093016Z",
     "iopub.status.idle": "2020-08-19T16:06:08.384852Z",
     "shell.execute_reply": "2020-08-19T16:06:08.384026Z"
    },
    "papermill": {
     "duration": 0.311109,
     "end_time": "2020-08-19T16:06:08.384991",
     "exception": false,
     "start_time": "2020-08-19T16:06:08.073882",
     "status": "completed"
    },
    "tags": []
   },
   "outputs": [],
   "source": [
    "# Read data prepared in Task 1\n",
    "data= pd.read_csv('/kaggle/input/quantium-task2/Combined-data.csv', parse_dates=['DATE'], index_col=0)"
   ]
  },
  {
   "cell_type": "code",
   "execution_count": 3,
   "metadata": {
    "execution": {
     "iopub.execute_input": "2020-08-19T16:06:08.416737Z",
     "iopub.status.busy": "2020-08-19T16:06:08.415464Z",
     "iopub.status.idle": "2020-08-19T16:06:08.419853Z",
     "shell.execute_reply": "2020-08-19T16:06:08.420423Z"
    },
    "papermill": {
     "duration": 0.023735,
     "end_time": "2020-08-19T16:06:08.420588",
     "exception": false,
     "start_time": "2020-08-19T16:06:08.396853",
     "status": "completed"
    },
    "tags": []
   },
   "outputs": [
    {
     "data": {
      "text/plain": [
       "(74570, 13)"
      ]
     },
     "execution_count": 3,
     "metadata": {},
     "output_type": "execute_result"
    }
   ],
   "source": [
    "data.shape"
   ]
  },
  {
   "cell_type": "code",
   "execution_count": 4,
   "metadata": {
    "execution": {
     "iopub.execute_input": "2020-08-19T16:06:08.458527Z",
     "iopub.status.busy": "2020-08-19T16:06:08.457742Z",
     "iopub.status.idle": "2020-08-19T16:06:08.472204Z",
     "shell.execute_reply": "2020-08-19T16:06:08.471544Z"
    },
    "papermill": {
     "duration": 0.040106,
     "end_time": "2020-08-19T16:06:08.472357",
     "exception": false,
     "start_time": "2020-08-19T16:06:08.432251",
     "status": "completed"
    },
    "tags": []
   },
   "outputs": [
    {
     "data": {
      "text/html": [
       "<div>\n",
       "<style scoped>\n",
       "    .dataframe tbody tr th:only-of-type {\n",
       "        vertical-align: middle;\n",
       "    }\n",
       "\n",
       "    .dataframe tbody tr th {\n",
       "        vertical-align: top;\n",
       "    }\n",
       "\n",
       "    .dataframe thead th {\n",
       "        text-align: right;\n",
       "    }\n",
       "</style>\n",
       "<table border=\"1\" class=\"dataframe\">\n",
       "  <thead>\n",
       "    <tr style=\"text-align: right;\">\n",
       "      <th></th>\n",
       "      <th>DATE</th>\n",
       "      <th>STORE_NBR</th>\n",
       "      <th>LYLTY_CARD_NBR</th>\n",
       "      <th>TXN_ID</th>\n",
       "      <th>PROD_NBR</th>\n",
       "      <th>PROD_NAME</th>\n",
       "      <th>PROD_QTY</th>\n",
       "      <th>TOT_SALES</th>\n",
       "      <th>DAY</th>\n",
       "      <th>PROD_WEIGHT</th>\n",
       "      <th>BRAND</th>\n",
       "      <th>LIFESTAGE</th>\n",
       "      <th>PREMIUM_CUSTOMER</th>\n",
       "    </tr>\n",
       "  </thead>\n",
       "  <tbody>\n",
       "    <tr>\n",
       "      <th>0</th>\n",
       "      <td>2018-07-01</td>\n",
       "      <td>149</td>\n",
       "      <td>149176</td>\n",
       "      <td>148841</td>\n",
       "      <td>16</td>\n",
       "      <td>Smiths Crinkle Chips Salt &amp; Vinegar</td>\n",
       "      <td>2</td>\n",
       "      <td>11.4</td>\n",
       "      <td>Sunday</td>\n",
       "      <td>330.0</td>\n",
       "      <td>Smiths</td>\n",
       "      <td>OLDER SINGLES/COUPLES</td>\n",
       "      <td>Premium</td>\n",
       "    </tr>\n",
       "    <tr>\n",
       "      <th>1</th>\n",
       "      <td>2018-07-01</td>\n",
       "      <td>176</td>\n",
       "      <td>176365</td>\n",
       "      <td>177355</td>\n",
       "      <td>90</td>\n",
       "      <td>Tostitos Smoked     Chipotle</td>\n",
       "      <td>2</td>\n",
       "      <td>8.8</td>\n",
       "      <td>Sunday</td>\n",
       "      <td>175.0</td>\n",
       "      <td>Tostitos</td>\n",
       "      <td>YOUNG SINGLES/COUPLES</td>\n",
       "      <td>Mainstream</td>\n",
       "    </tr>\n",
       "    <tr>\n",
       "      <th>2</th>\n",
       "      <td>2018-07-01</td>\n",
       "      <td>155</td>\n",
       "      <td>155043</td>\n",
       "      <td>155282</td>\n",
       "      <td>21</td>\n",
       "      <td>WW Sour Cream &amp;OnionStacked Chips</td>\n",
       "      <td>2</td>\n",
       "      <td>3.8</td>\n",
       "      <td>Sunday</td>\n",
       "      <td>160.0</td>\n",
       "      <td>WW</td>\n",
       "      <td>MIDAGE SINGLES/COUPLES</td>\n",
       "      <td>Premium</td>\n",
       "    </tr>\n",
       "    <tr>\n",
       "      <th>3</th>\n",
       "      <td>2018-07-01</td>\n",
       "      <td>108</td>\n",
       "      <td>108339</td>\n",
       "      <td>110148</td>\n",
       "      <td>30</td>\n",
       "      <td>Doritos Corn Chips  Cheese Supreme</td>\n",
       "      <td>2</td>\n",
       "      <td>8.8</td>\n",
       "      <td>Sunday</td>\n",
       "      <td>170.0</td>\n",
       "      <td>Doritos</td>\n",
       "      <td>NEW FAMILIES</td>\n",
       "      <td>Mainstream</td>\n",
       "    </tr>\n",
       "    <tr>\n",
       "      <th>4</th>\n",
       "      <td>2018-07-01</td>\n",
       "      <td>54</td>\n",
       "      <td>54021</td>\n",
       "      <td>47840</td>\n",
       "      <td>14</td>\n",
       "      <td>Smiths Crnkle Chip  Orgnl Big Bag</td>\n",
       "      <td>2</td>\n",
       "      <td>11.8</td>\n",
       "      <td>Sunday</td>\n",
       "      <td>380.0</td>\n",
       "      <td>Smiths</td>\n",
       "      <td>RETIREES</td>\n",
       "      <td>Mainstream</td>\n",
       "    </tr>\n",
       "  </tbody>\n",
       "</table>\n",
       "</div>"
      ],
      "text/plain": [
       "        DATE  STORE_NBR  LYLTY_CARD_NBR  TXN_ID  PROD_NBR  \\\n",
       "0 2018-07-01        149          149176  148841        16   \n",
       "1 2018-07-01        176          176365  177355        90   \n",
       "2 2018-07-01        155          155043  155282        21   \n",
       "3 2018-07-01        108          108339  110148        30   \n",
       "4 2018-07-01         54           54021   47840        14   \n",
       "\n",
       "                              PROD_NAME  PROD_QTY  TOT_SALES     DAY  \\\n",
       "0  Smiths Crinkle Chips Salt & Vinegar          2       11.4  Sunday   \n",
       "1         Tostitos Smoked     Chipotle          2        8.8  Sunday   \n",
       "2    WW Sour Cream &OnionStacked Chips          2        3.8  Sunday   \n",
       "3   Doritos Corn Chips  Cheese Supreme          2        8.8  Sunday   \n",
       "4    Smiths Crnkle Chip  Orgnl Big Bag          2       11.8  Sunday   \n",
       "\n",
       "   PROD_WEIGHT     BRAND               LIFESTAGE PREMIUM_CUSTOMER  \n",
       "0        330.0    Smiths   OLDER SINGLES/COUPLES          Premium  \n",
       "1        175.0  Tostitos   YOUNG SINGLES/COUPLES       Mainstream  \n",
       "2        160.0        WW  MIDAGE SINGLES/COUPLES          Premium  \n",
       "3        170.0   Doritos            NEW FAMILIES       Mainstream  \n",
       "4        380.0    Smiths                RETIREES       Mainstream  "
      ]
     },
     "execution_count": 4,
     "metadata": {},
     "output_type": "execute_result"
    }
   ],
   "source": [
    "data.head()"
   ]
  },
  {
   "cell_type": "code",
   "execution_count": 5,
   "metadata": {
    "execution": {
     "iopub.execute_input": "2020-08-19T16:06:08.503021Z",
     "iopub.status.busy": "2020-08-19T16:06:08.502207Z",
     "iopub.status.idle": "2020-08-19T16:06:09.141028Z",
     "shell.execute_reply": "2020-08-19T16:06:09.140249Z"
    },
    "papermill": {
     "duration": 0.656649,
     "end_time": "2020-08-19T16:06:09.141165",
     "exception": false,
     "start_time": "2020-08-19T16:06:08.484516",
     "status": "completed"
    },
    "tags": []
   },
   "outputs": [],
   "source": [
    "#Create new column with Month and Year\n",
    "data['MONTH_YR']= data['DATE'].dt.strftime('%B-%Y')"
   ]
  },
  {
   "cell_type": "markdown",
   "execution_count": null,
   "metadata": {
    "papermill": {
     "duration": 0.011885,
     "end_time": "2020-08-19T16:06:09.167365",
     "exception": false,
     "start_time": "2020-08-19T16:06:09.155480",
     "status": "completed"
    },
    "tags": []
   },
   "source": [
    "Create a new dataframe having data of individual stores:"
   ]
  },
  {
   "cell_type": "code",
   "execution_count": 6,
   "metadata": {
    "execution": {
     "iopub.execute_input": "2020-08-19T16:06:09.202272Z",
     "iopub.status.busy": "2020-08-19T16:06:09.201159Z",
     "iopub.status.idle": "2020-08-19T16:06:09.204926Z",
     "shell.execute_reply": "2020-08-19T16:06:09.204162Z"
    },
    "papermill": {
     "duration": 0.02544,
     "end_time": "2020-08-19T16:06:09.205060",
     "exception": false,
     "start_time": "2020-08-19T16:06:09.179620",
     "status": "completed"
    },
    "tags": []
   },
   "outputs": [],
   "source": [
    "store_data = pd.DataFrame(columns=['STORE_NBR','MONTH_YR','TOT_SALES','CUST_NBR'])"
   ]
  },
  {
   "cell_type": "code",
   "execution_count": 7,
   "metadata": {
    "execution": {
     "iopub.execute_input": "2020-08-19T16:06:09.236820Z",
     "iopub.status.busy": "2020-08-19T16:06:09.236025Z",
     "iopub.status.idle": "2020-08-19T16:06:09.243746Z",
     "shell.execute_reply": "2020-08-19T16:06:09.242976Z"
    },
    "papermill": {
     "duration": 0.026686,
     "end_time": "2020-08-19T16:06:09.243873",
     "exception": false,
     "start_time": "2020-08-19T16:06:09.217187",
     "status": "completed"
    },
    "tags": []
   },
   "outputs": [],
   "source": [
    "store_data['STORE_NBR']=data['STORE_NBR'].unique().repeat(12)"
   ]
  },
  {
   "cell_type": "code",
   "execution_count": 8,
   "metadata": {
    "execution": {
     "iopub.execute_input": "2020-08-19T16:06:09.286787Z",
     "iopub.status.busy": "2020-08-19T16:06:09.285922Z",
     "iopub.status.idle": "2020-08-19T16:06:09.348888Z",
     "shell.execute_reply": "2020-08-19T16:06:09.348204Z"
    },
    "papermill": {
     "duration": 0.091484,
     "end_time": "2020-08-19T16:06:09.349018",
     "exception": false,
     "start_time": "2020-08-19T16:06:09.257534",
     "status": "completed"
    },
    "tags": []
   },
   "outputs": [],
   "source": [
    "store_data['MONTH_YR']=np.tile(data['MONTH_YR'].unique(),len (data['STORE_NBR'].unique()))\n",
    "store_data ['MONTH']= store_data['MONTH_YR'].map(lambda x: datetime.datetime.strptime(x.split('-', 1)[0], \"%B\").month )\n",
    "store_data['YEAR']=store_data['MONTH_YR'].map(lambda x: int(x.split('-', 1)[1]))"
   ]
  },
  {
   "cell_type": "code",
   "execution_count": 9,
   "metadata": {
    "execution": {
     "iopub.execute_input": "2020-08-19T16:06:09.387554Z",
     "iopub.status.busy": "2020-08-19T16:06:09.386528Z",
     "iopub.status.idle": "2020-08-19T16:06:09.390779Z",
     "shell.execute_reply": "2020-08-19T16:06:09.391339Z"
    },
    "papermill": {
     "duration": 0.030053,
     "end_time": "2020-08-19T16:06:09.391521",
     "exception": false,
     "start_time": "2020-08-19T16:06:09.361468",
     "status": "completed"
    },
    "tags": []
   },
   "outputs": [
    {
     "data": {
      "text/html": [
       "<div>\n",
       "<style scoped>\n",
       "    .dataframe tbody tr th:only-of-type {\n",
       "        vertical-align: middle;\n",
       "    }\n",
       "\n",
       "    .dataframe tbody tr th {\n",
       "        vertical-align: top;\n",
       "    }\n",
       "\n",
       "    .dataframe thead th {\n",
       "        text-align: right;\n",
       "    }\n",
       "</style>\n",
       "<table border=\"1\" class=\"dataframe\">\n",
       "  <thead>\n",
       "    <tr style=\"text-align: right;\">\n",
       "      <th></th>\n",
       "      <th>STORE_NBR</th>\n",
       "      <th>MONTH_YR</th>\n",
       "      <th>TOT_SALES</th>\n",
       "      <th>CUST_NBR</th>\n",
       "      <th>MONTH</th>\n",
       "      <th>YEAR</th>\n",
       "    </tr>\n",
       "  </thead>\n",
       "  <tbody>\n",
       "    <tr>\n",
       "      <th>0</th>\n",
       "      <td>149</td>\n",
       "      <td>July-2018</td>\n",
       "      <td>NaN</td>\n",
       "      <td>NaN</td>\n",
       "      <td>7</td>\n",
       "      <td>2018</td>\n",
       "    </tr>\n",
       "    <tr>\n",
       "      <th>1</th>\n",
       "      <td>149</td>\n",
       "      <td>August-2018</td>\n",
       "      <td>NaN</td>\n",
       "      <td>NaN</td>\n",
       "      <td>8</td>\n",
       "      <td>2018</td>\n",
       "    </tr>\n",
       "    <tr>\n",
       "      <th>2</th>\n",
       "      <td>149</td>\n",
       "      <td>September-2018</td>\n",
       "      <td>NaN</td>\n",
       "      <td>NaN</td>\n",
       "      <td>9</td>\n",
       "      <td>2018</td>\n",
       "    </tr>\n",
       "    <tr>\n",
       "      <th>3</th>\n",
       "      <td>149</td>\n",
       "      <td>October-2018</td>\n",
       "      <td>NaN</td>\n",
       "      <td>NaN</td>\n",
       "      <td>10</td>\n",
       "      <td>2018</td>\n",
       "    </tr>\n",
       "    <tr>\n",
       "      <th>4</th>\n",
       "      <td>149</td>\n",
       "      <td>November-2018</td>\n",
       "      <td>NaN</td>\n",
       "      <td>NaN</td>\n",
       "      <td>11</td>\n",
       "      <td>2018</td>\n",
       "    </tr>\n",
       "  </tbody>\n",
       "</table>\n",
       "</div>"
      ],
      "text/plain": [
       "   STORE_NBR        MONTH_YR TOT_SALES CUST_NBR  MONTH  YEAR\n",
       "0        149       July-2018       NaN      NaN      7  2018\n",
       "1        149     August-2018       NaN      NaN      8  2018\n",
       "2        149  September-2018       NaN      NaN      9  2018\n",
       "3        149    October-2018       NaN      NaN     10  2018\n",
       "4        149   November-2018       NaN      NaN     11  2018"
      ]
     },
     "execution_count": 9,
     "metadata": {},
     "output_type": "execute_result"
    }
   ],
   "source": [
    "store_data.head()"
   ]
  },
  {
   "cell_type": "code",
   "execution_count": 10,
   "metadata": {
    "execution": {
     "iopub.execute_input": "2020-08-19T16:06:09.425573Z",
     "iopub.status.busy": "2020-08-19T16:06:09.424752Z",
     "iopub.status.idle": "2020-08-19T16:07:00.598554Z",
     "shell.execute_reply": "2020-08-19T16:07:00.599146Z"
    },
    "papermill": {
     "duration": 51.195332,
     "end_time": "2020-08-19T16:07:00.599386",
     "exception": false,
     "start_time": "2020-08-19T16:06:09.404054",
     "status": "completed"
    },
    "tags": []
   },
   "outputs": [],
   "source": [
    "df =pd.Series(dtype=float)\n",
    "for x in data.STORE_NBR.unique():\n",
    "    for m in data['MONTH_YR'].unique():\n",
    "        df = df.append( pd.Series(data[(data.STORE_NBR== x) & (data.MONTH_YR == m)]['TOT_SALES'].sum()), ignore_index=True)"
   ]
  },
  {
   "cell_type": "code",
   "execution_count": 11,
   "metadata": {
    "execution": {
     "iopub.execute_input": "2020-08-19T16:07:00.632097Z",
     "iopub.status.busy": "2020-08-19T16:07:00.631001Z",
     "iopub.status.idle": "2020-08-19T16:07:00.634416Z",
     "shell.execute_reply": "2020-08-19T16:07:00.633669Z"
    },
    "papermill": {
     "duration": 0.022153,
     "end_time": "2020-08-19T16:07:00.634547",
     "exception": false,
     "start_time": "2020-08-19T16:07:00.612394",
     "status": "completed"
    },
    "tags": []
   },
   "outputs": [],
   "source": [
    "store_data['TOT_SALES']=df"
   ]
  },
  {
   "cell_type": "code",
   "execution_count": 12,
   "metadata": {
    "execution": {
     "iopub.execute_input": "2020-08-19T16:07:00.669044Z",
     "iopub.status.busy": "2020-08-19T16:07:00.668243Z",
     "iopub.status.idle": "2020-08-19T16:07:49.473066Z",
     "shell.execute_reply": "2020-08-19T16:07:49.473691Z"
    },
    "papermill": {
     "duration": 48.82649,
     "end_time": "2020-08-19T16:07:49.473878",
     "exception": false,
     "start_time": "2020-08-19T16:07:00.647388",
     "status": "completed"
    },
    "tags": []
   },
   "outputs": [],
   "source": [
    "df =pd.Series(dtype=float)\n",
    "for x in data.STORE_NBR.unique():\n",
    "    for m in data['MONTH_YR'].unique():\n",
    "        df = df.append( pd.Series(len(data[(data.STORE_NBR == x) & (data.MONTH_YR == m)]['LYLTY_CARD_NBR'].unique())), ignore_index=True)"
   ]
  },
  {
   "cell_type": "code",
   "execution_count": 13,
   "metadata": {
    "execution": {
     "iopub.execute_input": "2020-08-19T16:07:49.505994Z",
     "iopub.status.busy": "2020-08-19T16:07:49.505205Z",
     "iopub.status.idle": "2020-08-19T16:07:49.508569Z",
     "shell.execute_reply": "2020-08-19T16:07:49.507843Z"
    },
    "papermill": {
     "duration": 0.021805,
     "end_time": "2020-08-19T16:07:49.508702",
     "exception": false,
     "start_time": "2020-08-19T16:07:49.486897",
     "status": "completed"
    },
    "tags": []
   },
   "outputs": [],
   "source": [
    "store_data['CUST_NBR']=df"
   ]
  },
  {
   "cell_type": "code",
   "execution_count": 14,
   "metadata": {
    "execution": {
     "iopub.execute_input": "2020-08-19T16:07:49.543360Z",
     "iopub.status.busy": "2020-08-19T16:07:49.542585Z",
     "iopub.status.idle": "2020-08-19T16:08:41.099905Z",
     "shell.execute_reply": "2020-08-19T16:08:41.099063Z"
    },
    "papermill": {
     "duration": 51.578486,
     "end_time": "2020-08-19T16:08:41.100104",
     "exception": false,
     "start_time": "2020-08-19T16:07:49.521618",
     "status": "completed"
    },
    "tags": []
   },
   "outputs": [],
   "source": [
    "df =pd.Series(dtype=float)\n",
    "for x in data.STORE_NBR.unique():\n",
    "    for m in data['MONTH_YR'].unique():\n",
    "        df = df.append( pd.Series(data[(data.STORE_NBR ==x) & (data.MONTH_YR ==m)]['TXN_ID'].value_counts().sum()), ignore_index=True)"
   ]
  },
  {
   "cell_type": "code",
   "execution_count": 15,
   "metadata": {
    "execution": {
     "iopub.execute_input": "2020-08-19T16:08:41.134557Z",
     "iopub.status.busy": "2020-08-19T16:08:41.133345Z",
     "iopub.status.idle": "2020-08-19T16:08:41.137234Z",
     "shell.execute_reply": "2020-08-19T16:08:41.136573Z"
    },
    "papermill": {
     "duration": 0.023587,
     "end_time": "2020-08-19T16:08:41.137420",
     "exception": false,
     "start_time": "2020-08-19T16:08:41.113833",
     "status": "completed"
    },
    "tags": []
   },
   "outputs": [],
   "source": [
    "store_data['TXN_COUNT']=df"
   ]
  },
  {
   "cell_type": "markdown",
   "execution_count": null,
   "metadata": {
    "papermill": {
     "duration": 0.013469,
     "end_time": "2020-08-19T16:08:41.163952",
     "exception": false,
     "start_time": "2020-08-19T16:08:41.150483",
     "status": "completed"
    },
    "tags": []
   },
   "source": [
    "1. **STORE_NBR:** Store number\n",
    "2. **MONTH_YR:** Month-Year\n",
    "3. **TOT_SALES:** Total sales for that month\n",
    "4. **CUST_NBR:** Number of customers that month\n",
    "5. **MONTH:** Month number\n",
    "6. **YEAR:** Year\n",
    "7. **TXN_COUNT:** Number of transactions that month"
   ]
  },
  {
   "cell_type": "code",
   "execution_count": 16,
   "metadata": {
    "execution": {
     "iopub.execute_input": "2020-08-19T16:08:41.205598Z",
     "iopub.status.busy": "2020-08-19T16:08:41.204639Z",
     "iopub.status.idle": "2020-08-19T16:08:41.208990Z",
     "shell.execute_reply": "2020-08-19T16:08:41.209595Z"
    },
    "papermill": {
     "duration": 0.032059,
     "end_time": "2020-08-19T16:08:41.209770",
     "exception": false,
     "start_time": "2020-08-19T16:08:41.177711",
     "status": "completed"
    },
    "tags": []
   },
   "outputs": [
    {
     "data": {
      "text/html": [
       "<div>\n",
       "<style scoped>\n",
       "    .dataframe tbody tr th:only-of-type {\n",
       "        vertical-align: middle;\n",
       "    }\n",
       "\n",
       "    .dataframe tbody tr th {\n",
       "        vertical-align: top;\n",
       "    }\n",
       "\n",
       "    .dataframe thead th {\n",
       "        text-align: right;\n",
       "    }\n",
       "</style>\n",
       "<table border=\"1\" class=\"dataframe\">\n",
       "  <thead>\n",
       "    <tr style=\"text-align: right;\">\n",
       "      <th></th>\n",
       "      <th>STORE_NBR</th>\n",
       "      <th>MONTH_YR</th>\n",
       "      <th>TOT_SALES</th>\n",
       "      <th>CUST_NBR</th>\n",
       "      <th>MONTH</th>\n",
       "      <th>YEAR</th>\n",
       "      <th>TXN_COUNT</th>\n",
       "    </tr>\n",
       "  </thead>\n",
       "  <tbody>\n",
       "    <tr>\n",
       "      <th>0</th>\n",
       "      <td>149</td>\n",
       "      <td>July-2018</td>\n",
       "      <td>126.0</td>\n",
       "      <td>14</td>\n",
       "      <td>7</td>\n",
       "      <td>2018</td>\n",
       "      <td>14</td>\n",
       "    </tr>\n",
       "    <tr>\n",
       "      <th>1</th>\n",
       "      <td>149</td>\n",
       "      <td>August-2018</td>\n",
       "      <td>92.3</td>\n",
       "      <td>12</td>\n",
       "      <td>8</td>\n",
       "      <td>2018</td>\n",
       "      <td>12</td>\n",
       "    </tr>\n",
       "    <tr>\n",
       "      <th>2</th>\n",
       "      <td>149</td>\n",
       "      <td>September-2018</td>\n",
       "      <td>111.3</td>\n",
       "      <td>13</td>\n",
       "      <td>9</td>\n",
       "      <td>2018</td>\n",
       "      <td>14</td>\n",
       "    </tr>\n",
       "    <tr>\n",
       "      <th>3</th>\n",
       "      <td>149</td>\n",
       "      <td>October-2018</td>\n",
       "      <td>80.2</td>\n",
       "      <td>10</td>\n",
       "      <td>10</td>\n",
       "      <td>2018</td>\n",
       "      <td>10</td>\n",
       "    </tr>\n",
       "    <tr>\n",
       "      <th>4</th>\n",
       "      <td>149</td>\n",
       "      <td>November-2018</td>\n",
       "      <td>95.8</td>\n",
       "      <td>12</td>\n",
       "      <td>11</td>\n",
       "      <td>2018</td>\n",
       "      <td>12</td>\n",
       "    </tr>\n",
       "  </tbody>\n",
       "</table>\n",
       "</div>"
      ],
      "text/plain": [
       "   STORE_NBR        MONTH_YR  TOT_SALES  CUST_NBR  MONTH  YEAR  TXN_COUNT\n",
       "0        149       July-2018      126.0        14      7  2018         14\n",
       "1        149     August-2018       92.3        12      8  2018         12\n",
       "2        149  September-2018      111.3        13      9  2018         14\n",
       "3        149    October-2018       80.2        10     10  2018         10\n",
       "4        149   November-2018       95.8        12     11  2018         12"
      ]
     },
     "execution_count": 16,
     "metadata": {},
     "output_type": "execute_result"
    }
   ],
   "source": [
    "store_data.head()"
   ]
  },
  {
   "cell_type": "code",
   "execution_count": 17,
   "metadata": {
    "execution": {
     "iopub.execute_input": "2020-08-19T16:08:41.243654Z",
     "iopub.status.busy": "2020-08-19T16:08:41.242889Z",
     "iopub.status.idle": "2020-08-19T16:08:41.249881Z",
     "shell.execute_reply": "2020-08-19T16:08:41.249247Z"
    },
    "papermill": {
     "duration": 0.026816,
     "end_time": "2020-08-19T16:08:41.250021",
     "exception": false,
     "start_time": "2020-08-19T16:08:41.223205",
     "status": "completed"
    },
    "tags": []
   },
   "outputs": [
    {
     "data": {
      "text/plain": [
       "0"
      ]
     },
     "execution_count": 17,
     "metadata": {},
     "output_type": "execute_result"
    }
   ],
   "source": [
    "# Check for nulls\n",
    "store_data.isna().sum().sum()"
   ]
  },
  {
   "cell_type": "markdown",
   "execution_count": null,
   "metadata": {
    "papermill": {
     "duration": 0.012971,
     "end_time": "2020-08-19T16:08:41.276466",
     "exception": false,
     "start_time": "2020-08-19T16:08:41.263495",
     "status": "completed"
    },
    "tags": []
   },
   "source": [
    "Create a new dataframe having data of stores in the pre-trial period (before February 2019):"
   ]
  },
  {
   "cell_type": "code",
   "execution_count": 18,
   "metadata": {
    "execution": {
     "iopub.execute_input": "2020-08-19T16:08:41.312369Z",
     "iopub.status.busy": "2020-08-19T16:08:41.311343Z",
     "iopub.status.idle": "2020-08-19T16:08:41.316080Z",
     "shell.execute_reply": "2020-08-19T16:08:41.315442Z"
    },
    "papermill": {
     "duration": 0.02625,
     "end_time": "2020-08-19T16:08:41.316210",
     "exception": false,
     "start_time": "2020-08-19T16:08:41.289960",
     "status": "completed"
    },
    "tags": []
   },
   "outputs": [],
   "source": [
    "ptstore_data = store_data[(store_data.YEAR == 2018) | ((store_data.MONTH <2) & (store_data.YEAR == 2019))]"
   ]
  },
  {
   "cell_type": "markdown",
   "execution_count": null,
   "metadata": {
    "papermill": {
     "duration": 0.013046,
     "end_time": "2020-08-19T16:08:41.342662",
     "exception": false,
     "start_time": "2020-08-19T16:08:41.329616",
     "status": "completed"
    },
    "tags": []
   },
   "source": [
    "Divide the pre-trial dataframe into control stores dataframe and trial stores dataframe"
   ]
  },
  {
   "cell_type": "code",
   "execution_count": 19,
   "metadata": {
    "execution": {
     "iopub.execute_input": "2020-08-19T16:08:41.384062Z",
     "iopub.status.busy": "2020-08-19T16:08:41.381432Z",
     "iopub.status.idle": "2020-08-19T16:08:41.403500Z",
     "shell.execute_reply": "2020-08-19T16:08:41.402778Z"
    },
    "papermill": {
     "duration": 0.047415,
     "end_time": "2020-08-19T16:08:41.403640",
     "exception": false,
     "start_time": "2020-08-19T16:08:41.356225",
     "status": "completed"
    },
    "tags": []
   },
   "outputs": [],
   "source": [
    "# Control stores\n",
    "cs_data = pd.DataFrame()\n",
    "cs_data['TOT_SALES'] = ptstore_data[(ptstore_data.STORE_NBR != 77 ) & (ptstore_data.STORE_NBR != 86) & (ptstore_data.STORE_NBR != 88)]['TOT_SALES'].groupby(ptstore_data['STORE_NBR']).sum()\n",
    "cs_data['CUST_NBR'] = ptstore_data[(ptstore_data.STORE_NBR != 77 ) & (ptstore_data.STORE_NBR != 86) & (ptstore_data.STORE_NBR != 88)]['CUST_NBR'].groupby(ptstore_data['STORE_NBR']).sum()\n",
    "cs_data['TXN_COUNT'] = ptstore_data[(ptstore_data.STORE_NBR != 77 ) & (ptstore_data.STORE_NBR != 86) & (ptstore_data.STORE_NBR != 88)]['TXN_COUNT'].groupby(ptstore_data['STORE_NBR']).sum()"
   ]
  },
  {
   "cell_type": "code",
   "execution_count": 20,
   "metadata": {
    "execution": {
     "iopub.execute_input": "2020-08-19T16:08:41.446143Z",
     "iopub.status.busy": "2020-08-19T16:08:41.441484Z",
     "iopub.status.idle": "2020-08-19T16:08:41.450984Z",
     "shell.execute_reply": "2020-08-19T16:08:41.450363Z"
    },
    "papermill": {
     "duration": 0.03369,
     "end_time": "2020-08-19T16:08:41.451128",
     "exception": false,
     "start_time": "2020-08-19T16:08:41.417438",
     "status": "completed"
    },
    "tags": []
   },
   "outputs": [
    {
     "data": {
      "text/html": [
       "<div>\n",
       "<style scoped>\n",
       "    .dataframe tbody tr th:only-of-type {\n",
       "        vertical-align: middle;\n",
       "    }\n",
       "\n",
       "    .dataframe tbody tr th {\n",
       "        vertical-align: top;\n",
       "    }\n",
       "\n",
       "    .dataframe thead th {\n",
       "        text-align: right;\n",
       "    }\n",
       "</style>\n",
       "<table border=\"1\" class=\"dataframe\">\n",
       "  <thead>\n",
       "    <tr style=\"text-align: right;\">\n",
       "      <th></th>\n",
       "      <th>TOT_SALES</th>\n",
       "      <th>CUST_NBR</th>\n",
       "      <th>TXN_COUNT</th>\n",
       "    </tr>\n",
       "    <tr>\n",
       "      <th>STORE_NBR</th>\n",
       "      <th></th>\n",
       "      <th></th>\n",
       "      <th></th>\n",
       "    </tr>\n",
       "  </thead>\n",
       "  <tbody>\n",
       "    <tr>\n",
       "      <th>1</th>\n",
       "      <td>408.5</td>\n",
       "      <td>103</td>\n",
       "      <td>104</td>\n",
       "    </tr>\n",
       "    <tr>\n",
       "      <th>2</th>\n",
       "      <td>328.8</td>\n",
       "      <td>85</td>\n",
       "      <td>88</td>\n",
       "    </tr>\n",
       "    <tr>\n",
       "      <th>3</th>\n",
       "      <td>1825.0</td>\n",
       "      <td>216</td>\n",
       "      <td>227</td>\n",
       "    </tr>\n",
       "    <tr>\n",
       "      <th>4</th>\n",
       "      <td>2490.3</td>\n",
       "      <td>290</td>\n",
       "      <td>303</td>\n",
       "    </tr>\n",
       "    <tr>\n",
       "      <th>5</th>\n",
       "      <td>1581.2</td>\n",
       "      <td>219</td>\n",
       "      <td>236</td>\n",
       "    </tr>\n",
       "    <tr>\n",
       "      <th>...</th>\n",
       "      <td>...</td>\n",
       "      <td>...</td>\n",
       "      <td>...</td>\n",
       "    </tr>\n",
       "    <tr>\n",
       "      <th>268</th>\n",
       "      <td>485.5</td>\n",
       "      <td>105</td>\n",
       "      <td>108</td>\n",
       "    </tr>\n",
       "    <tr>\n",
       "      <th>269</th>\n",
       "      <td>1822.4</td>\n",
       "      <td>246</td>\n",
       "      <td>270</td>\n",
       "    </tr>\n",
       "    <tr>\n",
       "      <th>270</th>\n",
       "      <td>1876.7</td>\n",
       "      <td>255</td>\n",
       "      <td>288</td>\n",
       "    </tr>\n",
       "    <tr>\n",
       "      <th>271</th>\n",
       "      <td>1575.8</td>\n",
       "      <td>219</td>\n",
       "      <td>233</td>\n",
       "    </tr>\n",
       "    <tr>\n",
       "      <th>272</th>\n",
       "      <td>757.5</td>\n",
       "      <td>95</td>\n",
       "      <td>95</td>\n",
       "    </tr>\n",
       "  </tbody>\n",
       "</table>\n",
       "<p>262 rows × 3 columns</p>\n",
       "</div>"
      ],
      "text/plain": [
       "           TOT_SALES  CUST_NBR  TXN_COUNT\n",
       "STORE_NBR                                \n",
       "1              408.5       103        104\n",
       "2              328.8        85         88\n",
       "3             1825.0       216        227\n",
       "4             2490.3       290        303\n",
       "5             1581.2       219        236\n",
       "...              ...       ...        ...\n",
       "268            485.5       105        108\n",
       "269           1822.4       246        270\n",
       "270           1876.7       255        288\n",
       "271           1575.8       219        233\n",
       "272            757.5        95         95\n",
       "\n",
       "[262 rows x 3 columns]"
      ]
     },
     "execution_count": 20,
     "metadata": {},
     "output_type": "execute_result"
    }
   ],
   "source": [
    "cs_data"
   ]
  },
  {
   "cell_type": "code",
   "execution_count": 21,
   "metadata": {
    "execution": {
     "iopub.execute_input": "2020-08-19T16:08:41.493045Z",
     "iopub.status.busy": "2020-08-19T16:08:41.489350Z",
     "iopub.status.idle": "2020-08-19T16:08:41.503144Z",
     "shell.execute_reply": "2020-08-19T16:08:41.502307Z"
    },
    "papermill": {
     "duration": 0.038019,
     "end_time": "2020-08-19T16:08:41.503278",
     "exception": false,
     "start_time": "2020-08-19T16:08:41.465259",
     "status": "completed"
    },
    "tags": []
   },
   "outputs": [],
   "source": [
    "# Trial stores\n",
    "ts_data = pd.DataFrame()\n",
    "ts_data['TOT_SALES'] = ptstore_data['TOT_SALES'].groupby(ptstore_data['STORE_NBR']).sum()\n",
    "ts_data['CUST_NBR'] = ptstore_data['CUST_NBR'].groupby(ptstore_data['STORE_NBR']).sum()\n",
    "ts_data['TXN_COUNT'] = ptstore_data['TXN_COUNT'].groupby(ptstore_data['STORE_NBR']).sum()\n",
    "ts_data = ts_data.loc[[77,86,88]]"
   ]
  },
  {
   "cell_type": "code",
   "execution_count": 22,
   "metadata": {
    "execution": {
     "iopub.execute_input": "2020-08-19T16:08:41.543701Z",
     "iopub.status.busy": "2020-08-19T16:08:41.542659Z",
     "iopub.status.idle": "2020-08-19T16:08:41.547787Z",
     "shell.execute_reply": "2020-08-19T16:08:41.547031Z"
    },
    "papermill": {
     "duration": 0.030316,
     "end_time": "2020-08-19T16:08:41.547925",
     "exception": false,
     "start_time": "2020-08-19T16:08:41.517609",
     "status": "completed"
    },
    "tags": []
   },
   "outputs": [
    {
     "data": {
      "text/html": [
       "<div>\n",
       "<style scoped>\n",
       "    .dataframe tbody tr th:only-of-type {\n",
       "        vertical-align: middle;\n",
       "    }\n",
       "\n",
       "    .dataframe tbody tr th {\n",
       "        vertical-align: top;\n",
       "    }\n",
       "\n",
       "    .dataframe thead th {\n",
       "        text-align: right;\n",
       "    }\n",
       "</style>\n",
       "<table border=\"1\" class=\"dataframe\">\n",
       "  <thead>\n",
       "    <tr style=\"text-align: right;\">\n",
       "      <th></th>\n",
       "      <th>TOT_SALES</th>\n",
       "      <th>CUST_NBR</th>\n",
       "      <th>TXN_COUNT</th>\n",
       "    </tr>\n",
       "    <tr>\n",
       "      <th>STORE_NBR</th>\n",
       "      <th></th>\n",
       "      <th></th>\n",
       "      <th></th>\n",
       "    </tr>\n",
       "  </thead>\n",
       "  <tbody>\n",
       "    <tr>\n",
       "      <th>77</th>\n",
       "      <td>494.0</td>\n",
       "      <td>93</td>\n",
       "      <td>95</td>\n",
       "    </tr>\n",
       "    <tr>\n",
       "      <th>86</th>\n",
       "      <td>1762.1</td>\n",
       "      <td>256</td>\n",
       "      <td>275</td>\n",
       "    </tr>\n",
       "    <tr>\n",
       "      <th>88</th>\n",
       "      <td>2350.8</td>\n",
       "      <td>276</td>\n",
       "      <td>290</td>\n",
       "    </tr>\n",
       "  </tbody>\n",
       "</table>\n",
       "</div>"
      ],
      "text/plain": [
       "           TOT_SALES  CUST_NBR  TXN_COUNT\n",
       "STORE_NBR                                \n",
       "77             494.0        93         95\n",
       "86            1762.1       256        275\n",
       "88            2350.8       276        290"
      ]
     },
     "execution_count": 22,
     "metadata": {},
     "output_type": "execute_result"
    }
   ],
   "source": [
    "ts_data"
   ]
  },
  {
   "cell_type": "markdown",
   "execution_count": null,
   "metadata": {
    "papermill": {
     "duration": 0.013856,
     "end_time": "2020-08-19T16:08:41.576093",
     "exception": false,
     "start_time": "2020-08-19T16:08:41.562237",
     "status": "completed"
    },
    "tags": []
   },
   "source": [
    "Find correlated stores:"
   ]
  },
  {
   "cell_type": "code",
   "execution_count": 23,
   "metadata": {
    "execution": {
     "iopub.execute_input": "2020-08-19T16:08:41.612258Z",
     "iopub.status.busy": "2020-08-19T16:08:41.611177Z",
     "iopub.status.idle": "2020-08-19T16:08:41.725126Z",
     "shell.execute_reply": "2020-08-19T16:08:41.725715Z"
    },
    "papermill": {
     "duration": 0.135453,
     "end_time": "2020-08-19T16:08:41.725925",
     "exception": false,
     "start_time": "2020-08-19T16:08:41.590472",
     "status": "completed"
    },
    "tags": []
   },
   "outputs": [
    {
     "data": {
      "text/plain": [
       "STORE_NBR\n",
       "50     1.0\n",
       "238    1.0\n",
       "36     1.0\n",
       "90     1.0\n",
       "181    1.0\n",
       "dtype: float64"
      ]
     },
     "execution_count": 23,
     "metadata": {},
     "output_type": "execute_result"
    }
   ],
   "source": [
    "# Highly correlated control stores with trial store 77\n",
    "cs_data.corrwith(ts_data.loc[77], axis=1).nlargest(5)"
   ]
  },
  {
   "cell_type": "code",
   "execution_count": 24,
   "metadata": {
    "execution": {
     "iopub.execute_input": "2020-08-19T16:08:41.765319Z",
     "iopub.status.busy": "2020-08-19T16:08:41.764134Z",
     "iopub.status.idle": "2020-08-19T16:08:41.856993Z",
     "shell.execute_reply": "2020-08-19T16:08:41.856291Z"
    },
    "papermill": {
     "duration": 0.116451,
     "end_time": "2020-08-19T16:08:41.857124",
     "exception": false,
     "start_time": "2020-08-19T16:08:41.740673",
     "status": "completed"
    },
    "tags": []
   },
   "outputs": [
    {
     "data": {
      "text/html": [
       "<div>\n",
       "<style scoped>\n",
       "    .dataframe tbody tr th:only-of-type {\n",
       "        vertical-align: middle;\n",
       "    }\n",
       "\n",
       "    .dataframe tbody tr th {\n",
       "        vertical-align: top;\n",
       "    }\n",
       "\n",
       "    .dataframe thead th {\n",
       "        text-align: right;\n",
       "    }\n",
       "</style>\n",
       "<table border=\"1\" class=\"dataframe\">\n",
       "  <thead>\n",
       "    <tr style=\"text-align: right;\">\n",
       "      <th></th>\n",
       "      <th>TOT_SALES</th>\n",
       "      <th>CUST_NBR</th>\n",
       "      <th>TXN_COUNT</th>\n",
       "    </tr>\n",
       "    <tr>\n",
       "      <th>STORE_NBR</th>\n",
       "      <th></th>\n",
       "      <th></th>\n",
       "      <th></th>\n",
       "    </tr>\n",
       "  </thead>\n",
       "  <tbody>\n",
       "    <tr>\n",
       "      <th>181</th>\n",
       "      <td>-1627.4</td>\n",
       "      <td>-162.0</td>\n",
       "      <td>-169.0</td>\n",
       "    </tr>\n",
       "    <tr>\n",
       "      <th>238</th>\n",
       "      <td>-1580.6</td>\n",
       "      <td>-156.0</td>\n",
       "      <td>-163.0</td>\n",
       "    </tr>\n",
       "    <tr>\n",
       "      <th>36</th>\n",
       "      <td>-1120.5</td>\n",
       "      <td>-100.0</td>\n",
       "      <td>-105.0</td>\n",
       "    </tr>\n",
       "    <tr>\n",
       "      <th>50</th>\n",
       "      <td>-6.9</td>\n",
       "      <td>-9.0</td>\n",
       "      <td>-9.0</td>\n",
       "    </tr>\n",
       "    <tr>\n",
       "      <th>90</th>\n",
       "      <td>16.8</td>\n",
       "      <td>5.0</td>\n",
       "      <td>5.0</td>\n",
       "    </tr>\n",
       "  </tbody>\n",
       "</table>\n",
       "</div>"
      ],
      "text/plain": [
       "           TOT_SALES  CUST_NBR  TXN_COUNT\n",
       "STORE_NBR                                \n",
       "181          -1627.4    -162.0     -169.0\n",
       "238          -1580.6    -156.0     -163.0\n",
       "36           -1120.5    -100.0     -105.0\n",
       "50              -6.9      -9.0       -9.0\n",
       "90              16.8       5.0        5.0"
      ]
     },
     "execution_count": 24,
     "metadata": {},
     "output_type": "execute_result"
    }
   ],
   "source": [
    "# difference between trial store's performance and each control store's performance\n",
    "test = cs_data.loc[cs_data.corrwith(ts_data.loc[77], axis=1).nlargest(5).index]\n",
    "(ts_data.loc[77] - test).sort_values(by = ['TOT_SALES'])"
   ]
  },
  {
   "cell_type": "markdown",
   "execution_count": null,
   "metadata": {
    "papermill": {
     "duration": 0.014342,
     "end_time": "2020-08-19T16:08:41.886577",
     "exception": false,
     "start_time": "2020-08-19T16:08:41.872235",
     "status": "completed"
    },
    "tags": []
   },
   "source": [
    "The least difference is with store 38 so it can be the control store for store 77."
   ]
  },
  {
   "cell_type": "code",
   "execution_count": 25,
   "metadata": {
    "execution": {
     "iopub.execute_input": "2020-08-19T16:08:41.924806Z",
     "iopub.status.busy": "2020-08-19T16:08:41.923593Z",
     "iopub.status.idle": "2020-08-19T16:08:42.006177Z",
     "shell.execute_reply": "2020-08-19T16:08:42.005365Z"
    },
    "papermill": {
     "duration": 0.104924,
     "end_time": "2020-08-19T16:08:42.006319",
     "exception": false,
     "start_time": "2020-08-19T16:08:41.901395",
     "status": "completed"
    },
    "tags": []
   },
   "outputs": [
    {
     "data": {
      "text/plain": [
       "STORE_NBR\n",
       "33     1.0\n",
       "180    1.0\n",
       "208    1.0\n",
       "13     1.0\n",
       "5      1.0\n",
       "dtype: float64"
      ]
     },
     "execution_count": 25,
     "metadata": {},
     "output_type": "execute_result"
    }
   ],
   "source": [
    "# Highly correlated control stores with trial store 86\n",
    "cs_data.corrwith(ts_data.loc[86], axis=1).nlargest(5)"
   ]
  },
  {
   "cell_type": "code",
   "execution_count": 26,
   "metadata": {
    "execution": {
     "iopub.execute_input": "2020-08-19T16:08:42.047202Z",
     "iopub.status.busy": "2020-08-19T16:08:42.046421Z",
     "iopub.status.idle": "2020-08-19T16:08:42.134541Z",
     "shell.execute_reply": "2020-08-19T16:08:42.133831Z"
    },
    "papermill": {
     "duration": 0.112874,
     "end_time": "2020-08-19T16:08:42.134684",
     "exception": false,
     "start_time": "2020-08-19T16:08:42.021810",
     "status": "completed"
    },
    "tags": []
   },
   "outputs": [
    {
     "data": {
      "text/html": [
       "<div>\n",
       "<style scoped>\n",
       "    .dataframe tbody tr th:only-of-type {\n",
       "        vertical-align: middle;\n",
       "    }\n",
       "\n",
       "    .dataframe tbody tr th {\n",
       "        vertical-align: top;\n",
       "    }\n",
       "\n",
       "    .dataframe thead th {\n",
       "        text-align: right;\n",
       "    }\n",
       "</style>\n",
       "<table border=\"1\" class=\"dataframe\">\n",
       "  <thead>\n",
       "    <tr style=\"text-align: right;\">\n",
       "      <th></th>\n",
       "      <th>TOT_SALES</th>\n",
       "      <th>CUST_NBR</th>\n",
       "      <th>TXN_COUNT</th>\n",
       "    </tr>\n",
       "    <tr>\n",
       "      <th>STORE_NBR</th>\n",
       "      <th></th>\n",
       "      <th></th>\n",
       "      <th></th>\n",
       "    </tr>\n",
       "  </thead>\n",
       "  <tbody>\n",
       "    <tr>\n",
       "      <th>180</th>\n",
       "      <td>19.4</td>\n",
       "      <td>8.0</td>\n",
       "      <td>8.0</td>\n",
       "    </tr>\n",
       "    <tr>\n",
       "      <th>33</th>\n",
       "      <td>22.9</td>\n",
       "      <td>17.0</td>\n",
       "      <td>17.0</td>\n",
       "    </tr>\n",
       "    <tr>\n",
       "      <th>13</th>\n",
       "      <td>179.0</td>\n",
       "      <td>35.0</td>\n",
       "      <td>37.0</td>\n",
       "    </tr>\n",
       "    <tr>\n",
       "      <th>5</th>\n",
       "      <td>180.9</td>\n",
       "      <td>37.0</td>\n",
       "      <td>39.0</td>\n",
       "    </tr>\n",
       "    <tr>\n",
       "      <th>208</th>\n",
       "      <td>389.0</td>\n",
       "      <td>60.0</td>\n",
       "      <td>64.0</td>\n",
       "    </tr>\n",
       "  </tbody>\n",
       "</table>\n",
       "</div>"
      ],
      "text/plain": [
       "           TOT_SALES  CUST_NBR  TXN_COUNT\n",
       "STORE_NBR                                \n",
       "180             19.4       8.0        8.0\n",
       "33              22.9      17.0       17.0\n",
       "13             179.0      35.0       37.0\n",
       "5              180.9      37.0       39.0\n",
       "208            389.0      60.0       64.0"
      ]
     },
     "execution_count": 26,
     "metadata": {},
     "output_type": "execute_result"
    }
   ],
   "source": [
    "# difference between trial store's performance and each control store's performance\n",
    "test = cs_data.loc[cs_data.corrwith(ts_data.loc[86], axis=1).nlargest(5).index]\n",
    "(ts_data.loc[86] - test).sort_values(by = ['TOT_SALES'])"
   ]
  },
  {
   "cell_type": "markdown",
   "execution_count": null,
   "metadata": {
    "papermill": {
     "duration": 0.015096,
     "end_time": "2020-08-19T16:08:42.165266",
     "exception": false,
     "start_time": "2020-08-19T16:08:42.150170",
     "status": "completed"
    },
    "tags": []
   },
   "source": [
    "The least difference is with store 105 so it can be the control store for store 86."
   ]
  },
  {
   "cell_type": "code",
   "execution_count": 27,
   "metadata": {
    "execution": {
     "iopub.execute_input": "2020-08-19T16:08:42.205972Z",
     "iopub.status.busy": "2020-08-19T16:08:42.204138Z",
     "iopub.status.idle": "2020-08-19T16:08:42.290210Z",
     "shell.execute_reply": "2020-08-19T16:08:42.289375Z"
    },
    "papermill": {
     "duration": 0.109088,
     "end_time": "2020-08-19T16:08:42.290366",
     "exception": false,
     "start_time": "2020-08-19T16:08:42.181278",
     "status": "completed"
    },
    "tags": []
   },
   "outputs": [
    {
     "data": {
      "text/plain": [
       "STORE_NBR\n",
       "205    1.0\n",
       "18     1.0\n",
       "131    1.0\n",
       "65     1.0\n",
       "3      1.0\n",
       "103    1.0\n",
       "165    1.0\n",
       "119    1.0\n",
       "175    1.0\n",
       "237    1.0\n",
       "dtype: float64"
      ]
     },
     "execution_count": 27,
     "metadata": {},
     "output_type": "execute_result"
    }
   ],
   "source": [
    "# Highly correlated control stores with trial store 88\n",
    "cs_data.corrwith(ts_data.loc[88], axis=1).nlargest(10)"
   ]
  },
  {
   "cell_type": "code",
   "execution_count": 28,
   "metadata": {
    "execution": {
     "iopub.execute_input": "2020-08-19T16:08:42.331639Z",
     "iopub.status.busy": "2020-08-19T16:08:42.330840Z",
     "iopub.status.idle": "2020-08-19T16:08:42.420541Z",
     "shell.execute_reply": "2020-08-19T16:08:42.419886Z"
    },
    "papermill": {
     "duration": 0.114509,
     "end_time": "2020-08-19T16:08:42.420675",
     "exception": false,
     "start_time": "2020-08-19T16:08:42.306166",
     "status": "completed"
    },
    "tags": []
   },
   "outputs": [
    {
     "data": {
      "text/html": [
       "<div>\n",
       "<style scoped>\n",
       "    .dataframe tbody tr th:only-of-type {\n",
       "        vertical-align: middle;\n",
       "    }\n",
       "\n",
       "    .dataframe tbody tr th {\n",
       "        vertical-align: top;\n",
       "    }\n",
       "\n",
       "    .dataframe thead th {\n",
       "        text-align: right;\n",
       "    }\n",
       "</style>\n",
       "<table border=\"1\" class=\"dataframe\">\n",
       "  <thead>\n",
       "    <tr style=\"text-align: right;\">\n",
       "      <th></th>\n",
       "      <th>TOT_SALES</th>\n",
       "      <th>CUST_NBR</th>\n",
       "      <th>TXN_COUNT</th>\n",
       "    </tr>\n",
       "    <tr>\n",
       "      <th>STORE_NBR</th>\n",
       "      <th></th>\n",
       "      <th></th>\n",
       "      <th></th>\n",
       "    </tr>\n",
       "  </thead>\n",
       "  <tbody>\n",
       "    <tr>\n",
       "      <th>65</th>\n",
       "      <td>517.0</td>\n",
       "      <td>58.0</td>\n",
       "      <td>61.0</td>\n",
       "    </tr>\n",
       "    <tr>\n",
       "      <th>3</th>\n",
       "      <td>525.8</td>\n",
       "      <td>60.0</td>\n",
       "      <td>63.0</td>\n",
       "    </tr>\n",
       "    <tr>\n",
       "      <th>103</th>\n",
       "      <td>1787.6</td>\n",
       "      <td>170.0</td>\n",
       "      <td>181.0</td>\n",
       "    </tr>\n",
       "    <tr>\n",
       "      <th>18</th>\n",
       "      <td>1807.8</td>\n",
       "      <td>177.0</td>\n",
       "      <td>188.0</td>\n",
       "    </tr>\n",
       "    <tr>\n",
       "      <th>205</th>\n",
       "      <td>1815.4</td>\n",
       "      <td>185.0</td>\n",
       "      <td>196.0</td>\n",
       "    </tr>\n",
       "    <tr>\n",
       "      <th>131</th>\n",
       "      <td>1958.1</td>\n",
       "      <td>178.0</td>\n",
       "      <td>190.0</td>\n",
       "    </tr>\n",
       "  </tbody>\n",
       "</table>\n",
       "</div>"
      ],
      "text/plain": [
       "           TOT_SALES  CUST_NBR  TXN_COUNT\n",
       "STORE_NBR                                \n",
       "65             517.0      58.0       61.0\n",
       "3              525.8      60.0       63.0\n",
       "103           1787.6     170.0      181.0\n",
       "18            1807.8     177.0      188.0\n",
       "205           1815.4     185.0      196.0\n",
       "131           1958.1     178.0      190.0"
      ]
     },
     "execution_count": 28,
     "metadata": {},
     "output_type": "execute_result"
    }
   ],
   "source": [
    "# difference between trial store's performance and each control store's performance\n",
    "test = cs_data.loc[cs_data.corrwith(ts_data.loc[88], axis=1).nlargest(6).index]\n",
    "(ts_data.loc[88] - test).sort_values(by = ['TOT_SALES'])"
   ]
  },
  {
   "cell_type": "markdown",
   "execution_count": null,
   "metadata": {
    "papermill": {
     "duration": 0.015749,
     "end_time": "2020-08-19T16:08:42.452301",
     "exception": false,
     "start_time": "2020-08-19T16:08:42.436552",
     "status": "completed"
    },
    "tags": []
   },
   "source": [
    "The least difference is with store 130 so it can be the control store for store 88."
   ]
  },
  {
   "cell_type": "code",
   "execution_count": 29,
   "metadata": {
    "execution": {
     "iopub.execute_input": "2020-08-19T16:08:42.498586Z",
     "iopub.status.busy": "2020-08-19T16:08:42.497775Z",
     "iopub.status.idle": "2020-08-19T16:08:42.501495Z",
     "shell.execute_reply": "2020-08-19T16:08:42.500732Z"
    },
    "papermill": {
     "duration": 0.033264,
     "end_time": "2020-08-19T16:08:42.501627",
     "exception": false,
     "start_time": "2020-08-19T16:08:42.468363",
     "status": "completed"
    },
    "tags": []
   },
   "outputs": [],
   "source": [
    "# Create dataframes for the store pairs\n",
    "pf1 = pd.concat([cs_data[cs_data.index == 38],ts_data[ts_data.index == 77]])\n",
    "pf2 = pd.concat([cs_data[cs_data.index == 105],ts_data[ts_data.index == 86]])\n",
    "pf3 = pd.concat([cs_data[cs_data.index == 130],ts_data[ts_data.index == 88]])"
   ]
  },
  {
   "cell_type": "code",
   "execution_count": 30,
   "metadata": {
    "execution": {
     "iopub.execute_input": "2020-08-19T16:08:42.539945Z",
     "iopub.status.busy": "2020-08-19T16:08:42.539158Z",
     "iopub.status.idle": "2020-08-19T16:08:42.542679Z",
     "shell.execute_reply": "2020-08-19T16:08:42.542061Z"
    },
    "papermill": {
     "duration": 0.025128,
     "end_time": "2020-08-19T16:08:42.542822",
     "exception": false,
     "start_time": "2020-08-19T16:08:42.517694",
     "status": "completed"
    },
    "tags": []
   },
   "outputs": [],
   "source": [
    "style.use('seaborn-poster')\n",
    "sns.set_style('darkgrid')"
   ]
  },
  {
   "cell_type": "code",
   "execution_count": 31,
   "metadata": {
    "execution": {
     "iopub.execute_input": "2020-08-19T16:08:42.584171Z",
     "iopub.status.busy": "2020-08-19T16:08:42.583363Z",
     "iopub.status.idle": "2020-08-19T16:08:42.944628Z",
     "shell.execute_reply": "2020-08-19T16:08:42.945213Z"
    },
    "papermill": {
     "duration": 0.386573,
     "end_time": "2020-08-19T16:08:42.945419",
     "exception": false,
     "start_time": "2020-08-19T16:08:42.558846",
     "status": "completed"
    },
    "tags": []
   },
   "outputs": [
    {
     "data": {
      "image/png": "[encoded data removed]",
      "text/plain": [
       "<Figure size 1728x648 with 1 Axes>"
      ]
     },
     "metadata": {},
     "output_type": "display_data"
    }
   ],
   "source": [
    "# Visualise the performance of trial stores and the control stores during pre-trial period\n",
    "plt.rcParams['figure.figsize'] = (24, 9)\n",
    "df = pd.concat([pf1,pf2,pf3])\n",
    "df.plot(kind='bar', width=0.5)\n",
    "plt.title('COMPARISION OF CONTROL STORES AND TRIAL STORES DURING PRE-TRIAL PERIOD',fontweight='bold')\n",
    "plt.show()"
   ]
  },
  {
   "cell_type": "markdown",
   "execution_count": null,
   "metadata": {
    "papermill": {
     "duration": 0.016116,
     "end_time": "2020-08-19T16:08:42.978225",
     "exception": false,
     "start_time": "2020-08-19T16:08:42.962109",
     "status": "completed"
    },
    "tags": []
   },
   "source": [
    "Create a new dataframe having data of stores in the trial period (February 2019 - April 2019):"
   ]
  },
  {
   "cell_type": "code",
   "execution_count": 32,
   "metadata": {
    "execution": {
     "iopub.execute_input": "2020-08-19T16:08:43.020730Z",
     "iopub.status.busy": "2020-08-19T16:08:43.019803Z",
     "iopub.status.idle": "2020-08-19T16:08:43.024141Z",
     "shell.execute_reply": "2020-08-19T16:08:43.023505Z"
    },
    "papermill": {
     "duration": 0.029549,
     "end_time": "2020-08-19T16:08:43.024271",
     "exception": false,
     "start_time": "2020-08-19T16:08:42.994722",
     "status": "completed"
    },
    "tags": []
   },
   "outputs": [],
   "source": [
    "t_data = store_data[((store_data.MONTH >1)&(store_data.YEAR == 2019)) & ((store_data.MONTH <5)&(store_data.YEAR == 2019))]"
   ]
  },
  {
   "cell_type": "code",
   "execution_count": 33,
   "metadata": {
    "execution": {
     "iopub.execute_input": "2020-08-19T16:08:43.067863Z",
     "iopub.status.busy": "2020-08-19T16:08:43.067034Z",
     "iopub.status.idle": "2020-08-19T16:08:43.079592Z",
     "shell.execute_reply": "2020-08-19T16:08:43.078794Z"
    },
    "papermill": {
     "duration": 0.03882,
     "end_time": "2020-08-19T16:08:43.079725",
     "exception": false,
     "start_time": "2020-08-19T16:08:43.040905",
     "status": "completed"
    },
    "tags": []
   },
   "outputs": [],
   "source": [
    "trial_data = pd.DataFrame()\n",
    "trial_data['TOT_SALES'] = t_data['TOT_SALES'].groupby(t_data['STORE_NBR']).sum()\n",
    "trial_data['CUST_NBR'] = t_data['CUST_NBR'].groupby(t_data['STORE_NBR']).sum()\n",
    "trial_data['TXN_COUNT'] = t_data['TXN_COUNT'].groupby(t_data['STORE_NBR']).sum()"
   ]
  },
  {
   "cell_type": "code",
   "execution_count": 34,
   "metadata": {
    "execution": {
     "iopub.execute_input": "2020-08-19T16:08:43.122808Z",
     "iopub.status.busy": "2020-08-19T16:08:43.122016Z",
     "iopub.status.idle": "2020-08-19T16:08:43.125774Z",
     "shell.execute_reply": "2020-08-19T16:08:43.125043Z"
    },
    "papermill": {
     "duration": 0.029232,
     "end_time": "2020-08-19T16:08:43.125920",
     "exception": false,
     "start_time": "2020-08-19T16:08:43.096688",
     "status": "completed"
    },
    "tags": []
   },
   "outputs": [],
   "source": [
    "# Create dataframes for the store pairs\n",
    "pf1 = trial_data.loc[[38,77]]\n",
    "pf2 = trial_data.loc[[105,86]]\n",
    "pf3 = trial_data.loc[[130,88]]"
   ]
  },
  {
   "cell_type": "code",
   "execution_count": 35,
   "metadata": {
    "execution": {
     "iopub.execute_input": "2020-08-19T16:08:43.178994Z",
     "iopub.status.busy": "2020-08-19T16:08:43.177832Z",
     "iopub.status.idle": "2020-08-19T16:08:43.485742Z",
     "shell.execute_reply": "2020-08-19T16:08:43.484925Z"
    },
    "papermill": {
     "duration": 0.342821,
     "end_time": "2020-08-19T16:08:43.485876",
     "exception": false,
     "start_time": "2020-08-19T16:08:43.143055",
     "status": "completed"
    },
    "tags": []
   },
   "outputs": [
    {
     "data": {
      "image/png": "[encoded data removed]",
      "text/plain": [
       "<Figure size 1728x648 with 1 Axes>"
      ]
     },
     "metadata": {},
     "output_type": "display_data"
    }
   ],
   "source": [
    "# Visualise the performance of trial stores and the control stores during trial period\n",
    "plt.rcParams['figure.figsize'] = (24, 9)\n",
    "df = pd.concat([pf1,pf2,pf3])\n",
    "df.plot(kind='bar', width=0.5)\n",
    "plt.title('COMPARISION OF CONTROL STORES AND TRIAL STORES DURING TRIAL PERIOD',fontweight='bold')\n",
    "plt.show()"
   ]
  },
  {
   "cell_type": "markdown",
   "execution_count": null,
   "metadata": {
    "papermill": {
     "duration": 0.016949,
     "end_time": "2020-08-19T16:08:43.520163",
     "exception": false,
     "start_time": "2020-08-19T16:08:43.503214",
     "status": "completed"
    },
    "tags": []
   },
   "source": [
    "# CONCLUSION:\n",
    "\n",
    "(Trial Store-Control Store)\n",
    "\n",
    "77-38\n",
    "\n",
    "86-105\n",
    "\n",
    "88-30"
   ]
  },
  {
   "cell_type": "markdown",
   "execution_count": null,
   "metadata": {
    "papermill": {
     "duration": 0.016997,
     "end_time": "2020-08-19T16:08:43.554440",
     "exception": false,
     "start_time": "2020-08-19T16:08:43.537443",
     "status": "completed"
    },
    "tags": []
   },
   "source": [
    "* The results for trial stores **86** and **88** during the trial period show a **significant** difference in terms of total sales, customer number and number of transactions but this is not the case for trial store 77.\n",
    "\n",
    "* It might be that the way of implementation of the trial was different in trial store **77**.\n",
    "\n",
    "* Maximum difference of total sales is recorded from trial store **88**, which means that it carried out the **best implementation** of the trial.\n",
    "\n"
   ]
  }
 ],
 "metadata": {
  "kernelspec": {
   "display_name": "Python 3",
   "language": "python",
   "name": "python3"
  },
  "language_info": {
   "codemirror_mode": {
    "name": "ipython",
    "version": 3
   },
   "file_extension": ".py",
   "mimetype": "text/x-python",
   "name": "python",
   "nbconvert_exporter": "python",
   "pygments_lexer": "ipython3",
   "version": "3.7.6"
  },
  "papermill": {
   "duration": 161.422851,
   "end_time": "2020-08-19T16:08:43.680582",
   "environment_variables": {},
   "exception": null,
   "input_path": "__notebook__.ipynb",
   "output_path": "__notebook__.ipynb",
   "parameters": {},
   "start_time": "2020-08-19T16:06:02.257731",
   "version": "2.1.0"
  }
 },
 "nbformat": 4,
 "nbformat_minor": 4
}
